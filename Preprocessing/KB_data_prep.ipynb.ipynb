{
  "cells": [
    {
      "cell_type": "code",
      "execution_count": null,
      "metadata": {
        "id": "948lDAU_48SB"
      },
      "outputs": [],
      "source": [
        "from google.colab import drive\n",
        "drive.mount('/content/drive')"
      ]
    },
    {
      "cell_type": "code",
      "execution_count": null,
      "metadata": {},
      "outputs": [],
      "source": [
        "!pip install faker"
      ]
    },
    {
      "cell_type": "code",
      "execution_count": 1,
      "metadata": {
        "id": "PcMPJd3i3PhE"
      },
      "outputs": [],
      "source": [
        "import numpy as np\n",
        "import pandas as pd\n",
        "import json\n",
        "import pickle\n",
        "from tqdm import tqdm\n",
        "import warnings\n",
        "import os\n",
        "#from random import *\n",
        "import random\n",
        "from faker import Faker\n",
        "import re\n",
        "\n",
        "warnings.filterwarnings('ignore')"
      ]
    },
    {
      "cell_type": "code",
      "execution_count": 2,
      "metadata": {
        "id": "NjM4RVFV3PhI"
      },
      "outputs": [],
      "source": [
        "def json_to_pickle(data_path, json_file, pickle_file):\n",
        "    \n",
        "    # load json file\n",
        "    with open(data_path + json_file + '.json', 'r', encoding='utf-8') as f:\n",
        "        json_data = json.load(f)\n",
        "        \n",
        "    with open(data_path + pickle_file +'.pkl', 'wb') as f:\n",
        "        pickle.dump(json_data, f, protocol=pickle.HIGHEST_PROTOCOL)"
      ]
    },
    {
      "cell_type": "code",
      "execution_count": 3,
      "metadata": {
        "id": "XR4kiymM3PhJ"
      },
      "outputs": [],
      "source": [
        "def concat_files(file_ex:str, data_path):\n",
        "    def get_text(data_path, file_name):\n",
        "        with open(data_path+file_name, 'rb') as f:\n",
        "            data = pickle.load(f)\n",
        "\n",
        "        # json -> dict\n",
        "        temp_dict = {}\n",
        "        for i in tqdm(range(len(data['data']))):\n",
        "            temp_txt_list = []\n",
        "            for j in range(len(data['data'][i]['body'])):\n",
        "                temp_txt = data['data'][i]['body'][j]['utterance']\n",
        "                temp_txt_list.append(temp_txt)\n",
        "\n",
        "            temp_dict[i] = temp_txt_list\n",
        "\n",
        "\n",
        "        # join messages\n",
        "        temp_list = []\n",
        "        for i in range(len(temp_dict)):\n",
        "            temp_txt = ' '.join(temp_dict[i])\n",
        "            temp_list.append(temp_txt)\n",
        "\n",
        "        df = pd.DataFrame(temp_list, columns=['text'])\n",
        "\n",
        "        return df\n",
        "    \n",
        "    pkl_list = [file for file in os.listdir(data_path) if file.endswith(file_ex)]\n",
        "    pkl_list\n",
        "\n",
        "    name_list = []\n",
        "    for l in pkl_list:\n",
        "        name_list.append(l.split('.')[0])\n",
        "\n",
        "    for a in name_list:\n",
        "        globals()[f'{a}'] = get_text(data_path, f'{a}'+file_ex)\n",
        "\n",
        "    df_concat = pd.concat([globals()[f'{name_list[i]}'] for i in range(len(name_list))], ignore_index=True)\n",
        "\n",
        "    return df_concat"
      ]
    },
    {
      "cell_type": "code",
      "execution_count": 4,
      "metadata": {
        "id": "EbWddZ5w3PhK"
      },
      "outputs": [],
      "source": [
        "data_path = './KB_data/korean_sns/Training/'\n",
        "#data_path = './KB_data/korean_sns/Validation/'"
      ]
    },
    {
      "cell_type": "code",
      "execution_count": 5,
      "metadata": {
        "id": "HvNe97qE3PhL"
      },
      "outputs": [],
      "source": [
        "json_list = ['미용과건강','상거래(쇼핑)','시사교육','식음료','여가생활','일과직업','주거와생활','행사','개인및관계']\n",
        "pickle_list = ['beauty_health','shopping','education','food','leisure','work','living','events','personal_relationship']\n",
        "\n",
        "for i in range(len(json_list)):\n",
        "    json_to_pickle(data_path, json_list[i], pickle_list[i])"
      ]
    },
    {
      "cell_type": "code",
      "execution_count": 6,
      "metadata": {
        "id": "KHd9iqNp3PhM"
      },
      "outputs": [],
      "source": [
        "concat_file = concat_files('.pkl', data_path)\n",
        "\n",
        "with open(data_path + 'concat_file.pkl', 'wb') as f:\n",
        "        pickle.dump(concat_file, f, protocol=pickle.HIGHEST_PROTOCOL)"
      ]
    },
    {
      "cell_type": "code",
      "execution_count": 5,
      "metadata": {
        "id": "EWhcmcPP3PhM"
      },
      "outputs": [],
      "source": [
        "with open(data_path + 'concat_file.pkl', 'rb') as f:\n",
        "        concat_data = pickle.load(f)"
      ]
    },
    {
      "cell_type": "code",
      "execution_count": 6,
      "metadata": {
        "id": "5RkAz2Ej3PhN"
      },
      "outputs": [],
      "source": [
        "tag_data = concat_data[concat_data['text'].str.contains('#@')]\n",
        "tag_data.reset_index(drop=True, inplace=True)"
      ]
    },
    {
      "cell_type": "code",
      "execution_count": 7,
      "metadata": {
        "id": "7LZ9C_d83PhN"
      },
      "outputs": [],
      "source": [
        "filtered_text=[]\n",
        "\n",
        "text=tag_data.text.values\n",
        "\n",
        "tag_list=[\"#@이름#\"\n",
        "          ,\"#@계정#\"\n",
        "          ,\"#@신원#\"\n",
        "          ,\"#@전번#\"\n",
        "          ,\"#@금융#\"\n",
        "          ,\"#@번호#\"\n",
        "          ,\"#@주소#\"]\n",
        "\n",
        "for t in text:\n",
        "    for tag in tag_list:\n",
        "        if tag in t:\n",
        "            filtered_text.append(t)"
      ]
    },
    {
      "cell_type": "code",
      "execution_count": 8,
      "metadata": {
        "colab": {
          "base_uri": "https://localhost:8080/",
          "height": 206
        },
        "id": "Vk0YcElm3PhO",
        "outputId": "46608f80-4feb-49df-e871-5e796e4ff4a6"
      },
      "outputs": [
        {
          "data": {
            "text/html": [
              "<div>\n",
              "<style scoped>\n",
              "    .dataframe tbody tr th:only-of-type {\n",
              "        vertical-align: middle;\n",
              "    }\n",
              "\n",
              "    .dataframe tbody tr th {\n",
              "        vertical-align: top;\n",
              "    }\n",
              "\n",
              "    .dataframe thead th {\n",
              "        text-align: right;\n",
              "    }\n",
              "</style>\n",
              "<table border=\"1\" class=\"dataframe\">\n",
              "  <thead>\n",
              "    <tr style=\"text-align: right;\">\n",
              "      <th></th>\n",
              "      <th>text</th>\n",
              "    </tr>\n",
              "  </thead>\n",
              "  <tbody>\n",
              "    <tr>\n",
              "      <th>0</th>\n",
              "      <td>구냥 기른거같은데... ㅋ켘캨ㅋㅋㅋ ㅋㅋㅋㅋㅋㅋ알지 뭔날린디 #@이름# 털을보면 관...</td>\n",
              "    </tr>\n",
              "    <tr>\n",
              "      <th>1</th>\n",
              "      <td>앜ㅋㅋㅋㅋㅋㅋ나 머리가 저렇게 짧았나ㅋㅋㅋㅋㅋㅋ 레이어드컷 언니가 혹할만한 예쁜 사...</td>\n",
              "    </tr>\n",
              "    <tr>\n",
              "      <th>2</th>\n",
              "      <td>옥수수 털고싶다 옥수수 뽑아줄까 #@이름#센세는 옥수수 한번 뽑았었음 님도 곧 사랑...</td>\n",
              "    </tr>\n",
              "    <tr>\n",
              "      <th>3</th>\n",
              "      <td>#@이름# 아니겠죠...독감아닌데 열이 어젯밤도 안 떨어진다더라구요 그래서 오늘 #...</td>\n",
              "    </tr>\n",
              "    <tr>\n",
              "      <th>4</th>\n",
              "      <td>귓불도 뚫을 수 있으면 좋은데 아님 좀 윗쪽으로해서 함 뚫어 앞에서 봤을때 보이게....</td>\n",
              "    </tr>\n",
              "  </tbody>\n",
              "</table>\n",
              "</div>"
            ],
            "text/plain": [
              "                                                text\n",
              "0  구냥 기른거같은데... ㅋ켘캨ㅋㅋㅋ ㅋㅋㅋㅋㅋㅋ알지 뭔날린디 #@이름# 털을보면 관...\n",
              "1  앜ㅋㅋㅋㅋㅋㅋ나 머리가 저렇게 짧았나ㅋㅋㅋㅋㅋㅋ 레이어드컷 언니가 혹할만한 예쁜 사...\n",
              "2  옥수수 털고싶다 옥수수 뽑아줄까 #@이름#센세는 옥수수 한번 뽑았었음 님도 곧 사랑...\n",
              "3  #@이름# 아니겠죠...독감아닌데 열이 어젯밤도 안 떨어진다더라구요 그래서 오늘 #...\n",
              "4  귓불도 뚫을 수 있으면 좋은데 아님 좀 윗쪽으로해서 함 뚫어 앞에서 봤을때 보이게...."
            ]
          },
          "execution_count": 8,
          "metadata": {},
          "output_type": "execute_result"
        }
      ],
      "source": [
        "filtered_df=pd.DataFrame(filtered_text,columns=[\"text\"])\n",
        "filtered_df.head()"
      ]
    },
    {
      "cell_type": "code",
      "execution_count": 9,
      "metadata": {
        "id": "V_zfh6Ps3PhP"
      },
      "outputs": [],
      "source": [
        "def count_tags(text) :\n",
        "    name = []\n",
        "    address = []\n",
        "    tag_dict={'#@이름#': 0  #성+이름(1), 이름(9)\n",
        "              ,'#@계정#': 0  #이메일\n",
        "              ,'#@신원#': 0 #주민번호\n",
        "              ,'#@전번#': 0 #핸드폰번호\n",
        "              ,'#@금융#': 0  #계좌번호(국민) (은행명 계좌번호) , (계좌번호 은행명), (oo은행 , oo)\n",
        "              ,'#@번호#': 0 # 4~6자리 , 5:5\n",
        "              ,'#@주소#': 0} # 동이하 주소, 지번\n",
        "\n",
        "    for t in text:\n",
        "        for tag in tag_list:\n",
        "            if tag in t:\n",
        "                tag_dict[tag]+=1\n",
        "\n",
        "    return tag_dict"
      ]
    },
    {
      "cell_type": "code",
      "execution_count": null,
      "metadata": {
        "colab": {
          "base_uri": "https://localhost:8080/"
        },
        "id": "_URAWrYM3PhQ",
        "outputId": "ca6cfc5c-5d86-4179-db71-fa4bca12c4e9"
      },
      "outputs": [],
      "source": [
        "filtered_text=set(filtered_text)\n",
        "print(f'filtered_all : {len(filtered_text)}')\n",
        "tag_dict = count_tags(filtered_text)\n",
        "print(tag_dict)"
      ]
    },
    {
      "cell_type": "code",
      "execution_count": 11,
      "metadata": {
        "id": "XRpCiu5pRX88"
      },
      "outputs": [],
      "source": [
        "no_name = set()\n",
        "tag_list=[\n",
        "\"#@계정#\",\n",
        "\"#@신원#\",\n",
        "\"#@전번#\",\n",
        "\"#@금융#\",\n",
        "\"#@번호#\",\n",
        "\"#@주소#\",\n",
        "]\n",
        "\n",
        "for text in filtered_text:\n",
        "    for tag in tag_list:\n",
        "        if tag in text:\n",
        "            no_name.add(text)"
      ]
    },
    {
      "cell_type": "code",
      "execution_count": 12,
      "metadata": {
        "id": "67M0qT1RRuxJ"
      },
      "outputs": [
        {
          "data": {
            "text/plain": [
              "{'#@이름#': 5790,\n",
              " '#@계정#': 2835,\n",
              " '#@신원#': 483,\n",
              " '#@전번#': 1604,\n",
              " '#@금융#': 1819,\n",
              " '#@번호#': 2942,\n",
              " '#@주소#': 4480}"
            ]
          },
          "execution_count": 12,
          "metadata": {},
          "output_type": "execute_result"
        }
      ],
      "source": [
        "tag_list=[\"#@이름#\"\n",
        "          ,\"#@계정#\"\n",
        "          ,\"#@신원#\"\n",
        "          ,\"#@전번#\"\n",
        "          ,\"#@금융#\"\n",
        "          ,\"#@번호#\"\n",
        "          ,\"#@주소#\"]\n",
        "\n",
        "count_tags(no_name)"
      ]
    },
    {
      "cell_type": "markdown",
      "metadata": {
        "id": "W7JidmBP3PhQ"
      },
      "source": [
        "### preprocessing"
      ]
    },
    {
      "cell_type": "code",
      "execution_count": 13,
      "metadata": {
        "id": "bCfIVpWI3PhR"
      },
      "outputs": [],
      "source": [
        "#  '#@이름#': 0, #성+이름(1), 이름(9)\n",
        "# 이름 list 생성\n",
        "fake = Faker('ko-KR')\n",
        "\n",
        "def has_coda(word):\n",
        "    return (ord(word[-1])-44032)%28==0\n",
        "             \n",
        "#  '#@계정#': 0,  #이메일\n",
        "def create_email(iter:int):\n",
        "    \n",
        "    email_list = []\n",
        "    \n",
        "    for _ in range(iter):\n",
        "    \n",
        "        email = \"\"\n",
        "        \n",
        "        string_pool = \"abcdedfhijklmnopqrstuvwxyz\"\n",
        "        number_pool = \"1234567890\"\n",
        "        domain_pool = [\".com\", \".kr\", \".net\", \"co.kr\", \".ac.kr\"]\n",
        "        \n",
        "        for l in range(random.randint(5,20)) :\n",
        "            email += random.choice(string_pool+number_pool)\n",
        "\n",
        "        email += \"@\"\n",
        "\n",
        "        for l in range(random.randint(5,10)) :\n",
        "            email += random.choice(string_pool)\n",
        "            \n",
        "        email += random.choice(domain_pool)\n",
        "        \n",
        "        email_list.append(email)\n",
        "\n",
        "    return email_list\n",
        "    \n",
        "#  '#@신원#': 0, #주민번호\n",
        "def create_id_code(iter:int, proportion=0.5):\n",
        "    id_code_list = []\n",
        "\n",
        "    for i in range(int(iter*proportion)):\n",
        "        number = str(int(random.random()*1000000)).ljust(6, '0')+'-'+str(int(random.random()*10000000)).ljust(7, '0')\n",
        "        id_code_list.append(number)\n",
        "\n",
        "    for i in range(int(iter*(1-proportion))):\n",
        "        number = str(int(random.random()*1000000)).ljust(6, '0')+' '+str(int(random.random()*10000000)).ljust(7, '0')\n",
        "        id_code_list.append(number)\n",
        "\n",
        "    return id_code_list\n",
        "\n",
        "#  '#@전번#': 0, #핸드폰번호\n",
        "def create_phone_number(iter:int, proportion=0.5):\n",
        "    phone_number_list = []\n",
        "    \n",
        "    for i in range(int(iter*proportion)):\n",
        "        number = '010'+'-'+str(int(random.random()*10000)).zfill(4)+'-'+str(int(random.random()*10000)).zfill(4)\n",
        "        phone_number_list.append(number)\n",
        "\n",
        "    for i in range(int(iter*(1-proportion))):\n",
        "        number = '010'+str(int(random.random()*10000)).zfill(4)+str(int(random.random()*10000)).zfill(4)\n",
        "        phone_number_list.append(number)\n",
        "\n",
        "    return phone_number_list\n",
        "\n",
        "#  '#@금융#': 0, #계좌번호(국민) (은행명 계좌번호) , (계좌번호 은행명), (oo은행 , oo)\n",
        "def create_account(iter:int):\n",
        "      \n",
        "    ''''\n",
        "    dash : 계좌에 \"-\" 추가\n",
        "    bank_first : 은행명이 제일 앞에, False시 제일 뒤에\n",
        "    short: True시 \"꾹민\" False 시 \"국민은행\"\n",
        "    '''\n",
        "    \n",
        "    account_list = []\n",
        "    \n",
        "    for _ in range(iter):\n",
        "        account = \"\"\n",
        "        dash=random.choice([True,False])\n",
        "        bank_first=random.choice([True,False])\n",
        "        short=random.choice([True,False])\n",
        "        \n",
        "        if dash:\n",
        "            while len(account)<14:\n",
        "                account+=str(random.randint(0,9))\n",
        "                \n",
        "            account=account[:6]+\"-\"+account[6:8]+\"-\"+account[8:]\n",
        "            \n",
        "        else:\n",
        "            while len(account)<14:\n",
        "                account+=str(random.randint(0,9))\n",
        "                \n",
        "        \n",
        "        if short:\n",
        "            if bank_first:\n",
        "                account = \"국민 \" + account\n",
        "            else:\n",
        "                account = account + \" 국민\"\n",
        "                \n",
        "        else:\n",
        "            if bank_first:\n",
        "                account =\"국민은행 \"  +account\n",
        "                \n",
        "            else:\n",
        "                account = account + \" 국민은행\"\n",
        "        \n",
        "        account_list.append(account)      \n",
        "     \n",
        "    return account_list      \n",
        "\n",
        "#  '#@번호#': 0, # 4~6자리 , 5:5\n",
        "def create_pw(iter:int, proportion=0.5):\n",
        "    pw_list = []\n",
        "    \n",
        "    for i in range(int(iter*proportion)):\n",
        "        pw = str(int(random.random()*10000)).zfill(4)\n",
        "        pw_list.append(pw)\n",
        "    \n",
        "    for i in range(int(iter*(1-proportion))):\n",
        "        pw = str(int(random.random()*1000000)).zfill(6)\n",
        "        pw_list.append(pw)\n",
        "\n",
        "    return pw_list\n",
        "\n",
        "#  '#@주소#': 0} # 동이하 주소, 지번\n",
        "def create_address(iter:int):\n",
        "    from faker import Faker\n",
        "    fake = Faker('ko-KR')\n",
        "\n",
        "    address_list = []\n",
        "    for i in range(iter):\n",
        "        faker_address = fake.address()\n",
        "        if '(' in faker_address:\n",
        "            pass\n",
        "        else:\n",
        "            address_list.append(faker_address+' '+str(int(random.random()*1000)))\n",
        "\n",
        "    return address_list\n"
      ]
    },
    {
      "cell_type": "code",
      "execution_count": 14,
      "metadata": {
        "id": "V7g56z8x3PhU"
      },
      "outputs": [],
      "source": [
        "def convert_tag_to_name(sentence:str,target=\"#@이름#\",name1_list=None,name2_list=None):\n",
        "    \n",
        "    ## 이름 자동생성기 찾아야 함\n",
        "    \n",
        "    \n",
        "    flag=True\n",
        "    position1=[\"아\",\"이\",\"은\"] #받침 o\n",
        "    position2=[\"야\",\"가\",\"는\"] #받침 x\n",
        "\n",
        "    full_name_list=name1_list+name2_list\n",
        "    \n",
        "    \n",
        "    \n",
        "    while flag:\n",
        "        \n",
        "        start_index=sentence.find(target)\n",
        "        end_index=start_index+5\n",
        "        \n",
        "        if start_index==-1:\n",
        "            flag=False\n",
        "            \n",
        "        else:\n",
        "\n",
        "            try:\n",
        "                if sentence[end_index] in position1:\n",
        "\n",
        "                    # print(\"aaaaa : \", sentence[end_index])\n",
        "                    \n",
        "                    # name=random.choice(name1_list)\n",
        "                    # idx=random.randint(0,len(name1_list))\n",
        "                    name=name1_list.pop()\n",
        "                    # name=name1_list[idx]\n",
        "\n",
        "                    last_name=random.choice([True,False])\n",
        "                    \n",
        "                    if not last_name:\n",
        "                        name=name[1:]\n",
        "                    \n",
        "                    # print(sentence[end_index])\n",
        "                    if start_index == 0:\n",
        "                        sentence=name + sentence[end_index:]\n",
        "                    else:\n",
        "                        sentence=sentence[:start_index] + name + sentence[end_index:]\n",
        "                        \n",
        "                        \n",
        "                elif sentence[end_index] in position2:\n",
        "                    \n",
        "                    # name=random.choice(name2_list)\n",
        "                    name=name2_list.pop()\n",
        "                    last_name=random.choice([True,False])\n",
        "                    \n",
        "                    if not last_name:\n",
        "                        name=name[1:]\n",
        "                    \n",
        "                    # print(sentence[end_index])\n",
        "                    if start_index == 0:\n",
        "                        sentence=name + sentence[end_index:]\n",
        "                    else:\n",
        "                        sentence=sentence[:start_index] + name + sentence[end_index:]\n",
        "                        \n",
        "                else:\n",
        "                    \n",
        "                    # name=random.choice(name1_list+name2_list)\n",
        "                    name = full_name_list.pop()\n",
        "                    last_name=random.choice([True,False])\n",
        "                    \n",
        "                    if not last_name:\n",
        "                        name=name[1:]\n",
        "                    \n",
        "                    # print(sentence[end_index])\n",
        "                    sentence= sentence[:start_index] + name + sentence[end_index:]\n",
        "\n",
        "            except IndexError:\n",
        "                    # name=random.choice(name1_list+name2_list)\n",
        "                    name=full_name_list.pop()\n",
        "                    last_name=random.choice([True,False])\n",
        "                    \n",
        "                    if not last_name:\n",
        "                        name=name[1:]\n",
        "                    \n",
        "                    # print(sentence[end_index])\n",
        "                    sentence=sentence[:start_index] + name + sentence[end_index:]\n",
        "                    \n",
        "    return sentence\n",
        "\n",
        "def convert_tag(sentence:str,target=None,list_name=None):\n",
        "    \n",
        "    flag=True\n",
        "    \n",
        "    \n",
        "    while flag:\n",
        "        \n",
        "        start_index=sentence.find(target)\n",
        "        end_index=start_index+5\n",
        "        \n",
        "        if start_index==-1:\n",
        "            flag=False\n",
        "            \n",
        "        else:\n",
        "            data=random.choice(list_name)\n",
        "\n",
        "            sentence=sentence[:start_index] + data + sentence[end_index:]\n",
        "     \n",
        "                \n",
        "    return sentence  "
      ]
    },
    {
      "cell_type": "code",
      "execution_count": null,
      "metadata": {
        "id": "gA7sQVTa3PhV"
      },
      "outputs": [],
      "source": [
        "#create random data list\n",
        "\n",
        "name_list_coda=[] #받침 o\n",
        "name_list_nocoda=[] #받침 x\n",
        "\n",
        "for _ in range(150000):\n",
        "    \n",
        "    name = fake.name()\n",
        "    \n",
        "    if has_coda(name):\n",
        "        name_list_nocoda.append(name)\n",
        "    else:\n",
        "        name_list_coda.append(name)\n",
        "    \n",
        "iter = 5000\n",
        "email_list = create_email(iter)\n",
        "id_code_list = create_id_code(iter)\n",
        "phone_number_list = create_phone_number(iter)\n",
        "account_list = create_account(iter)\n",
        "pw_list = create_pw(iter)\n",
        "address_list = create_address(iter)\n",
        "\n",
        "\n",
        "with open(\"name_list_coda.list\",\"wb\") as f:\n",
        "    pickle.dump(name_list_coda,f)  \n",
        "with open(\"name_list_nocoda.list\",\"wb\") as f:\n",
        "    pickle.dump(name_list_nocoda,f)\n",
        "with open(\"email_list.list\",\"wb\") as f:\n",
        "   pickle.dump(email_list,f)\n",
        "with open(\"id_code_list.list\",\"wb\") as f:\n",
        "   pickle.dump(id_code_list,f)\n",
        "with open(\"phone_number_list.list\",\"wb\") as f:\n",
        "   pickle.dump(phone_number_list,f)\n",
        "with open(\"account_list.list\",\"wb\") as f:\n",
        "   pickle.dump(account_list,f)\n",
        "with open(\"pw_list.list\",\"wb\") as f:\n",
        "   pickle.dump(pw_list,f)\n",
        "with open(\"address_list.list\",\"wb\") as f:\n",
        "   pickle.dump(address_list,f)"
      ]
    },
    {
      "cell_type": "code",
      "execution_count": 17,
      "metadata": {
        "id": "Xy7HL_ItTZ1L"
      },
      "outputs": [
        {
          "data": {
            "text/html": [
              "<div>\n",
              "<style scoped>\n",
              "    .dataframe tbody tr th:only-of-type {\n",
              "        vertical-align: middle;\n",
              "    }\n",
              "\n",
              "    .dataframe tbody tr th {\n",
              "        vertical-align: top;\n",
              "    }\n",
              "\n",
              "    .dataframe thead th {\n",
              "        text-align: right;\n",
              "    }\n",
              "</style>\n",
              "<table border=\"1\" class=\"dataframe\">\n",
              "  <thead>\n",
              "    <tr style=\"text-align: right;\">\n",
              "      <th></th>\n",
              "      <th>text</th>\n",
              "    </tr>\n",
              "  </thead>\n",
              "  <tbody>\n",
              "    <tr>\n",
              "      <th>0</th>\n",
              "      <td>나 폰 바꿨음 번호도 바꼈삼 그런 거 같네 카톡 이름 바뀜 번호 갈켜줘 #@전번# ...</td>\n",
              "    </tr>\n",
              "    <tr>\n",
              "      <th>1</th>\n",
              "      <td>인스타 보면 얼굴 나온다 머라쳐?ㅋ구경좀해야겠다 어떤가 얼굴이랑 매치되나 직접칠래?...</td>\n",
              "    </tr>\n",
              "    <tr>\n",
              "      <th>2</th>\n",
              "      <td>집으로 갈꺼야? 울집으로 와랑 ㅋㅋㅋㅋ자기네집가라고? 택시타고 오케와 택시가 이써?...</td>\n",
              "    </tr>\n",
              "    <tr>\n",
              "      <th>3</th>\n",
              "      <td>알겠다리zzz 언니 두타 아듸 뭐야 두타? 엉 #@계정# 비번은 #@번호# 가방두타...</td>\n",
              "    </tr>\n",
              "    <tr>\n",
              "      <th>4</th>\n",
              "      <td>#@URL# 여기로 접근하셔서 이름: #@계정# 비번: #@번호# 이용하시면 홈페이...</td>\n",
              "    </tr>\n",
              "  </tbody>\n",
              "</table>\n",
              "</div>"
            ],
            "text/plain": [
              "                                                text\n",
              "0  나 폰 바꿨음 번호도 바꼈삼 그런 거 같네 카톡 이름 바뀜 번호 갈켜줘 #@전번# ...\n",
              "1  인스타 보면 얼굴 나온다 머라쳐?ㅋ구경좀해야겠다 어떤가 얼굴이랑 매치되나 직접칠래?...\n",
              "2  집으로 갈꺼야? 울집으로 와랑 ㅋㅋㅋㅋ자기네집가라고? 택시타고 오케와 택시가 이써?...\n",
              "3  알겠다리zzz 언니 두타 아듸 뭐야 두타? 엉 #@계정# 비번은 #@번호# 가방두타...\n",
              "4  #@URL# 여기로 접근하셔서 이름: #@계정# 비번: #@번호# 이용하시면 홈페이..."
            ]
          },
          "execution_count": 17,
          "metadata": {},
          "output_type": "execute_result"
        }
      ],
      "source": [
        "no_name_df=pd.DataFrame(no_name,columns=[\"text\"])\n",
        "no_name_df.head()"
      ]
    },
    {
      "cell_type": "code",
      "execution_count": 18,
      "metadata": {
        "id": "DoyqXJmKHds4"
      },
      "outputs": [],
      "source": [
        "split_text= no_name_df['text'].apply(lambda x:x.split()).values"
      ]
    },
    {
      "cell_type": "code",
      "execution_count": 53,
      "metadata": {
        "colab": {
          "base_uri": "https://localhost:8080/"
        },
        "id": "c3Nv5dzgXjFF",
        "outputId": "07e65758-d356-411f-a4cd-7cd71be3c75e"
      },
      "outputs": [
        {
          "name": "stderr",
          "output_type": "stream",
          "text": [
            "100%|██████████| 12644/12644 [16:30<00:00, 12.76it/s]\n"
          ]
        },
        {
          "name": "stdout",
          "output_type": "stream",
          "text": [
            "12644 12644\n"
          ]
        }
      ],
      "source": [
        "if __name__== \"__main__\":\n",
        "    data_path = './'\n",
        "    file_ex = '.list'\n",
        "    data_list = [file for file in os.listdir(data_path) if file.endswith(file_ex)]\n",
        "    for data in data_list :\n",
        "        with open(data,'rb') as f :\n",
        "            globals()[f'{data[:-5]}'] = pickle.load(f)  \n",
        "    \n",
        "    tag_dict={\"#@이름#\": \"\"\n",
        "            ,\"#@계정#\": email_list\n",
        "            ,\"#@신원#\": id_code_list\n",
        "            ,\"#@전번#\" : phone_number_list\n",
        "            ,\"#@금융#\" : account_list\n",
        "            ,\"#@번호#\" : pw_list\n",
        "            ,\"#@주소#\" : address_list} \n",
        "    \n",
        "    result = []\n",
        "    labels=[]\n",
        "\n",
        "    target=\"#@[ㄱ-힣a-zA-Z0-9]+#\"\n",
        "    \n",
        "    for li in tqdm(split_text):\n",
        "        sentence = []\n",
        "        label=[]\n",
        "        for token in li:\n",
        "            new_token =re.search(target, token)\n",
        "            try : \n",
        "                    \n",
        "                if token.find(\"#@\") == -1  :\n",
        "                    sentence.append(token)\n",
        "                    label.append('o')\n",
        "                \n",
        "                elif new_token.group() not in tag_dict :\n",
        "                    sentence.append(token)\n",
        "                    label.append('o')\n",
        "\n",
        "                elif new_token.group() in tag_dict:\n",
        "                    for tag in tag_dict :\n",
        "                        if tag == \"#@이름#\" :\n",
        "                            converted_token = convert_tag_to_name(token, tag, name_list_coda, name_list_nocoda)\n",
        "                        else :\n",
        "                            converted_token = convert_tag(token, tag, tag_dict[tag])\n",
        "                        \n",
        "                        if token != converted_token :\n",
        "                            sentence.append(converted_token)\n",
        "                            label.append(tag)\n",
        "            except :\n",
        "                pass\n",
        "                \n",
        "        result.append(sentence)\n",
        "        labels.append(label)\n",
        "\n",
        "            \n",
        "    print(len(result), len(labels))\n",
        "\n",
        "with open(\"./result.list\",\"wb\") as f:\n",
        "   pickle.dump(result,f)\n",
        "with open(\"./labels.list\",\"wb\") as f:\n",
        "   pickle.dump(labels,f)"
      ]
    },
    {
      "cell_type": "code",
      "execution_count": null,
      "metadata": {
        "id": "jCGNbIJ-FwPb"
      },
      "outputs": [],
      "source": [
        "with open('./KB_data/result.list', 'rb') as f:\n",
        "#with open('./KB_data/result_val.list', 'rb') as f:\n",
        "    data = pickle.load(f)\n",
        "with open('./KB_data/labels.list', 'rb') as f:\n",
        "#with open('./KB_data/labels_val.list', 'rb') as f:\n",
        "  labels = pickle.load(f)\n",
        "\n",
        "joined_data = []\n",
        "\n",
        "for a in data:\n",
        "    temp = ' '.join(a)\n",
        "    joined_data.append(temp)\n",
        "\n",
        "joined_label = []\n",
        "\n",
        "for a in labels:\n",
        "    temp = ' '.join(a)\n",
        "    joined_label.append(temp)\n",
        "\n",
        "df = pd.DataFrame(data=list(zip(joined_data, joined_label)))\n",
        "\n",
        "df.to_csv('./KB_data/train.tsv', index=False, header=None, sep='\\t')\n",
        "#df.to_csv('./KB_data/test.tsv', index=False, header=None, sep='\\t')"
      ]
    }
  ],
  "metadata": {
    "colab": {
      "collapsed_sections": [],
      "name": "KB_data_prep_ys.ipynb",
      "provenance": [],
      "toc_visible": true
    },
    "kernelspec": {
      "display_name": "Python 3.7.9 64-bit",
      "language": "python",
      "name": "python3"
    },
    "language_info": {
      "codemirror_mode": {
        "name": "ipython",
        "version": 3
      },
      "file_extension": ".py",
      "mimetype": "text/x-python",
      "name": "python",
      "nbconvert_exporter": "python",
      "pygments_lexer": "ipython3",
      "version": "3.7.9"
    },
    "orig_nbformat": 4,
    "vscode": {
      "interpreter": {
        "hash": "82d4c6f819cf47785f735f902f00da8643513d08dab4f4c7470bccf934b8d2d6"
      }
    }
  },
  "nbformat": 4,
  "nbformat_minor": 0
}
