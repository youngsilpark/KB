{
 "cells": [
  {
   "cell_type": "code",
   "execution_count": 4,
   "metadata": {},
   "outputs": [],
   "source": [
    "import numpy as np\n",
    "import pandas as pd\n",
    "import json\n",
    "import pickle\n",
    "from tqdm import tqdm\n",
    "import warnings\n",
    "import os\n",
    "from random import *\n",
    "\n",
    "warnings.filterwarnings('ignore')\n",
    "data_path = './data/korean_sns/Training/label_korean_sns/'"
   ]
  },
  {
   "cell_type": "code",
   "execution_count": 68,
   "metadata": {},
   "outputs": [],
   "source": [
    "# load json file\n",
    "\n",
    "# with open(data_path+'행사.json', 'r', encoding='utf-8') as f:\n",
    "#     json_data = json.load(f)"
   ]
  },
  {
   "cell_type": "code",
   "execution_count": 69,
   "metadata": {},
   "outputs": [],
   "source": [
    "# save json as pickle\n",
    "\n",
    "# with open(data_path+'events.pkl', 'wb') as f:\n",
    "#     pickle.dump(json_data, f, protocol=pickle.HIGHEST_PROTOCOL)"
   ]
  },
  {
   "cell_type": "code",
   "execution_count": 1,
   "metadata": {},
   "outputs": [],
   "source": [
    "def get_text(data_path, file_name):\n",
    "    with open(data_path+file_name, 'rb') as f:\n",
    "        data = pickle.load(f)\n",
    "\n",
    "    # json -> dict\n",
    "    temp_dict = {}\n",
    "    for i in tqdm(range(len(data['data']))):\n",
    "        temp_txt_list = []\n",
    "        for j in range(len(data['data'][i]['body'])):\n",
    "            temp_txt = data['data'][i]['body'][j]['utterance']\n",
    "            temp_txt_list.append(temp_txt)\n",
    "\n",
    "        temp_dict[i] = temp_txt_list\n",
    "\n",
    "\n",
    "    # join messages\n",
    "    temp_list = []\n",
    "    for i in range(len(temp_dict)):\n",
    "        temp_txt = ' '.join(temp_dict[i])\n",
    "        temp_list.append(temp_txt)\n",
    "\n",
    "    df = pd.DataFrame(temp_list, columns=['text'])\n",
    "\n",
    "    return df"
   ]
  },
  {
   "cell_type": "code",
   "execution_count": 2,
   "metadata": {},
   "outputs": [],
   "source": [
    "def concat_files(file_ex:str, data_path):\n",
    "    pkl_list = [file for file in os.listdir(data_path) if file.endswith(file_ex)]\n",
    "    pkl_list\n",
    "\n",
    "    name_list = []\n",
    "    for l in pkl_list:\n",
    "        name_list.append(l.split('.')[0])\n",
    "\n",
    "    for a in name_list:\n",
    "        globals()[f'{a}'] = get_text(data_path, f'{a}'+file_ex)\n",
    "\n",
    "    df_concat = pd.concat([globals()[f'{name_list[i]}'] for i in range(len(name_list))], ignore_index=True)\n",
    "\n",
    "    return df_concat"
   ]
  },
  {
   "cell_type": "code",
   "execution_count": 5,
   "metadata": {},
   "outputs": [
    {
     "name": "stderr",
     "output_type": "stream",
     "text": [
      "100%|██████████| 99383/99383 [00:01<00:00, 91793.39it/s] \n",
      "100%|██████████| 115503/115503 [00:01<00:00, 94597.57it/s]\n",
      "100%|██████████| 141205/141205 [00:01<00:00, 91502.36it/s] \n",
      "100%|██████████| 146620/146620 [00:01<00:00, 94674.24it/s] \n",
      "100%|██████████| 190306/190306 [00:02<00:00, 88692.30it/s] \n",
      "100%|██████████| 197528/197528 [00:02<00:00, 90433.34it/s] \n",
      "100%|██████████| 511496/511496 [00:05<00:00, 94753.79it/s] \n",
      "100%|██████████| 115503/115503 [00:01<00:00, 94083.58it/s] \n",
      "100%|██████████| 107976/107976 [00:01<00:00, 79262.62it/s]\n"
     ]
    }
   ],
   "source": [
    "df_concat = concat_files('.pkl', data_path)"
   ]
  },
  {
   "cell_type": "code",
   "execution_count": 6,
   "metadata": {},
   "outputs": [
    {
     "data": {
      "text/html": [
       "<div>\n",
       "<style scoped>\n",
       "    .dataframe tbody tr th:only-of-type {\n",
       "        vertical-align: middle;\n",
       "    }\n",
       "\n",
       "    .dataframe tbody tr th {\n",
       "        vertical-align: top;\n",
       "    }\n",
       "\n",
       "    .dataframe thead th {\n",
       "        text-align: right;\n",
       "    }\n",
       "</style>\n",
       "<table border=\"1\" class=\"dataframe\">\n",
       "  <thead>\n",
       "    <tr style=\"text-align: right;\">\n",
       "      <th></th>\n",
       "      <th>text</th>\n",
       "    </tr>\n",
       "  </thead>\n",
       "  <tbody>\n",
       "    <tr>\n",
       "      <th>0</th>\n",
       "      <td>마니아프세여??? #@시스템#사진# 흙흙흙 아 개피곤 ㅋㅋ 님 괜찮아여? 왜 먹고 ...</td>\n",
       "    </tr>\n",
       "    <tr>\n",
       "      <th>1</th>\n",
       "      <td>구냥 기른거같은데... ㅋ켘캨ㅋㅋㅋ ㅋㅋㅋㅋㅋㅋ알지 뭔날린디 #@이름# 털을보면 관...</td>\n",
       "    </tr>\n",
       "    <tr>\n",
       "      <th>2</th>\n",
       "      <td>다자기랑먹느라찐디 아닌데요!! 평일에 9시에 저녁을먹눈데 당연히찌죠 아닌데요?! 데...</td>\n",
       "    </tr>\n",
       "    <tr>\n",
       "      <th>3</th>\n",
       "      <td>내가 보기엔 빠지고있어 무게가 안줄어서...? 무게가 중요한게 아니야ㅋㅋㅋㅋㅋㅋㅋ ...</td>\n",
       "    </tr>\n",
       "    <tr>\n",
       "      <th>4</th>\n",
       "      <td>앜ㅋㅋㅋㅋㅋㅋ나 머리가 저렇게 짧았나ㅋㅋㅋㅋㅋㅋ 레이어드컷 언니가 혹할만한 예쁜 사...</td>\n",
       "    </tr>\n",
       "    <tr>\n",
       "      <th>...</th>\n",
       "      <td>...</td>\n",
       "    </tr>\n",
       "    <tr>\n",
       "      <th>1625515</th>\n",
       "      <td>오늘도출근했어? 어 어떤 분이 전화 달라고 해서 어쩔수없린허다 그때만시간된다하믄 ㅜ...</td>\n",
       "    </tr>\n",
       "    <tr>\n",
       "      <th>1625516</th>\n",
       "      <td>당신의의견.. 리스펙하겟어 리스풱트!!!!! 소중한 한표 선사 완료 나인천가면.. ...</td>\n",
       "    </tr>\n",
       "    <tr>\n",
       "      <th>1625517</th>\n",
       "      <td>맞아 어색해서 걍 긍정적이게 넴 이라고만했다ㅋㅋㅋㅋ 후아후아후 ㅋㅋㅋㅋㅋㅋㅋㅋㅋㅋ웃...</td>\n",
       "    </tr>\n",
       "    <tr>\n",
       "      <th>1625518</th>\n",
       "      <td>아앗...^^... ㅠㅠㅠㅠㅠㅠ 처장님까지 되면 끝이지 ㅠㅠ 웅웅 거진 ?? ㅋㅋㅋ...</td>\n",
       "    </tr>\n",
       "    <tr>\n",
       "      <th>1625519</th>\n",
       "      <td>일단 알바 지원해바야게따 ㅋㅋㅋ 웅웅 안가면 영원히 블랙 됨 ㅠㅠ 지원하면 꼭 가야...</td>\n",
       "    </tr>\n",
       "  </tbody>\n",
       "</table>\n",
       "<p>1625520 rows × 1 columns</p>\n",
       "</div>"
      ],
      "text/plain": [
       "                                                      text\n",
       "0        마니아프세여??? #@시스템#사진# 흙흙흙 아 개피곤 ㅋㅋ 님 괜찮아여? 왜 먹고 ...\n",
       "1        구냥 기른거같은데... ㅋ켘캨ㅋㅋㅋ ㅋㅋㅋㅋㅋㅋ알지 뭔날린디 #@이름# 털을보면 관...\n",
       "2        다자기랑먹느라찐디 아닌데요!! 평일에 9시에 저녁을먹눈데 당연히찌죠 아닌데요?! 데...\n",
       "3        내가 보기엔 빠지고있어 무게가 안줄어서...? 무게가 중요한게 아니야ㅋㅋㅋㅋㅋㅋㅋ ...\n",
       "4        앜ㅋㅋㅋㅋㅋㅋ나 머리가 저렇게 짧았나ㅋㅋㅋㅋㅋㅋ 레이어드컷 언니가 혹할만한 예쁜 사...\n",
       "...                                                    ...\n",
       "1625515  오늘도출근했어? 어 어떤 분이 전화 달라고 해서 어쩔수없린허다 그때만시간된다하믄 ㅜ...\n",
       "1625516  당신의의견.. 리스펙하겟어 리스풱트!!!!! 소중한 한표 선사 완료 나인천가면.. ...\n",
       "1625517  맞아 어색해서 걍 긍정적이게 넴 이라고만했다ㅋㅋㅋㅋ 후아후아후 ㅋㅋㅋㅋㅋㅋㅋㅋㅋㅋ웃...\n",
       "1625518  아앗...^^... ㅠㅠㅠㅠㅠㅠ 처장님까지 되면 끝이지 ㅠㅠ 웅웅 거진 ?? ㅋㅋㅋ...\n",
       "1625519  일단 알바 지원해바야게따 ㅋㅋㅋ 웅웅 안가면 영원히 블랙 됨 ㅠㅠ 지원하면 꼭 가야...\n",
       "\n",
       "[1625520 rows x 1 columns]"
      ]
     },
     "execution_count": 6,
     "metadata": {},
     "output_type": "execute_result"
    }
   ],
   "source": [
    "df_concat"
   ]
  },
  {
   "cell_type": "code",
   "execution_count": 7,
   "metadata": {},
   "outputs": [],
   "source": [
    "a = df_concat[df_concat['text'].str.contains('#@')]\n",
    "a.reset_index(drop=True, inplace=True)"
   ]
  },
  {
   "cell_type": "code",
   "execution_count": 8,
   "metadata": {},
   "outputs": [
    {
     "data": {
      "text/html": [
       "<div>\n",
       "<style scoped>\n",
       "    .dataframe tbody tr th:only-of-type {\n",
       "        vertical-align: middle;\n",
       "    }\n",
       "\n",
       "    .dataframe tbody tr th {\n",
       "        vertical-align: top;\n",
       "    }\n",
       "\n",
       "    .dataframe thead th {\n",
       "        text-align: right;\n",
       "    }\n",
       "</style>\n",
       "<table border=\"1\" class=\"dataframe\">\n",
       "  <thead>\n",
       "    <tr style=\"text-align: right;\">\n",
       "      <th></th>\n",
       "      <th>text</th>\n",
       "    </tr>\n",
       "  </thead>\n",
       "  <tbody>\n",
       "    <tr>\n",
       "      <th>166</th>\n",
       "      <td>우리 딸부 가는거닝? 그때 예약하자 어쩌자 하다가 진행이 된거닝 그러게! 언제라구?...</td>\n",
       "    </tr>\n",
       "    <tr>\n",
       "      <th>247</th>\n",
       "      <td>흥 주말에 그 물건들고 이런거 하면서 뭔가 손목 삔건지 오른손 평소에 아프던거랑 다...</td>\n",
       "    </tr>\n",
       "    <tr>\n",
       "      <th>313</th>\n",
       "      <td>#@소속#병원 선별진료소 없냥 껙거 없슈? 있지않남 있었는뎅 몇일전에 사라진거같은뒉...</td>\n",
       "    </tr>\n",
       "    <tr>\n",
       "      <th>709</th>\n",
       "      <td>글고 길거리보다 실내가 더 위험해서 오히려 마스크는 실내에서 써야된다고 그래서 #@...</td>\n",
       "    </tr>\n",
       "    <tr>\n",
       "      <th>780</th>\n",
       "      <td>님 괜찮으세여?? 넹 깜널 열 오늘 아침에 내렸네여 왜 ㅋㅋ 다행이에여 하루종일 누...</td>\n",
       "    </tr>\n",
       "    <tr>\n",
       "      <th>...</th>\n",
       "      <td>...</td>\n",
       "    </tr>\n",
       "    <tr>\n",
       "      <th>852563</th>\n",
       "      <td>#@소속#은 식대가 있어서 아 #@기타#원 더해서 ㅋㅋㅋㅋㅋㅋㅋ 근데또 보험 떼고 ...</td>\n",
       "    </tr>\n",
       "    <tr>\n",
       "      <th>852564</th>\n",
       "      <td>제가 #@소속#님이 #@소속#쪽인것도 몰라보고 #@소속#보다작은거아니냐고 그러면 인...</td>\n",
       "    </tr>\n",
       "    <tr>\n",
       "      <th>852570</th>\n",
       "      <td>원래 우리 알바비가 거의 800이거든 1000 나올 때도 있고 그래서 400 딱 맞...</td>\n",
       "    </tr>\n",
       "    <tr>\n",
       "      <th>852577</th>\n",
       "      <td>ㄹㅇ갈까 일하러 ㄹㅇ 오실래요? 간다 일하러가면데냐 되냐 오십쇼오십쇼 저대신 대타좀...</td>\n",
       "    </tr>\n",
       "    <tr>\n",
       "      <th>852578</th>\n",
       "      <td>#@이름# 지금 #@소속# 상표권 출원 하고 있는데 #@시스템#사진# 너 이름으로 ...</td>\n",
       "    </tr>\n",
       "  </tbody>\n",
       "</table>\n",
       "<p>12129 rows × 1 columns</p>\n",
       "</div>"
      ],
      "text/plain": [
       "                                                     text\n",
       "166     우리 딸부 가는거닝? 그때 예약하자 어쩌자 하다가 진행이 된거닝 그러게! 언제라구?...\n",
       "247     흥 주말에 그 물건들고 이런거 하면서 뭔가 손목 삔건지 오른손 평소에 아프던거랑 다...\n",
       "313     #@소속#병원 선별진료소 없냥 껙거 없슈? 있지않남 있었는뎅 몇일전에 사라진거같은뒉...\n",
       "709     글고 길거리보다 실내가 더 위험해서 오히려 마스크는 실내에서 써야된다고 그래서 #@...\n",
       "780     님 괜찮으세여?? 넹 깜널 열 오늘 아침에 내렸네여 왜 ㅋㅋ 다행이에여 하루종일 누...\n",
       "...                                                   ...\n",
       "852563  #@소속#은 식대가 있어서 아 #@기타#원 더해서 ㅋㅋㅋㅋㅋㅋㅋ 근데또 보험 떼고 ...\n",
       "852564  제가 #@소속#님이 #@소속#쪽인것도 몰라보고 #@소속#보다작은거아니냐고 그러면 인...\n",
       "852570  원래 우리 알바비가 거의 800이거든 1000 나올 때도 있고 그래서 400 딱 맞...\n",
       "852577  ㄹㅇ갈까 일하러 ㄹㅇ 오실래요? 간다 일하러가면데냐 되냐 오십쇼오십쇼 저대신 대타좀...\n",
       "852578  #@이름# 지금 #@소속# 상표권 출원 하고 있는데 #@시스템#사진# 너 이름으로 ...\n",
       "\n",
       "[12129 rows x 1 columns]"
      ]
     },
     "execution_count": 8,
     "metadata": {},
     "output_type": "execute_result"
    }
   ],
   "source": [
    "a[a['text'].str.contains('#@소속#')]"
   ]
  },
  {
   "cell_type": "code",
   "execution_count": 9,
   "metadata": {},
   "outputs": [],
   "source": [
    "tag_list=[\"#@이름#\",\n",
    "\"#@계정#\",\n",
    "\"#@신원#\",\n",
    "\"#@전번#\",\n",
    "\"#@금융#\",\n",
    "\"#@번호#\",\n",
    "\"#@주소#\",\n",
    "]"
   ]
  },
  {
   "cell_type": "code",
   "execution_count": 10,
   "metadata": {},
   "outputs": [],
   "source": [
    "a_re=a[a[\"text\"].isin(tag_list)]"
   ]
  },
  {
   "cell_type": "code",
   "execution_count": 11,
   "metadata": {},
   "outputs": [],
   "source": [
    "text=a.text.values"
   ]
  },
  {
   "cell_type": "code",
   "execution_count": 12,
   "metadata": {},
   "outputs": [
    {
     "data": {
      "text/plain": [
       "array(['마니아프세여??? #@시스템#사진# 흙흙흙 아 개피곤 ㅋㅋ 님 괜찮아여? 왜 먹고 먹고 머고만 햇는데 몸이 무겁지 걸은것도 별로 없는데 몰라여 응가싸서 그런가 고되다 똥싸서 몸무게 빠졋나 아삐건해 미틴ㅋㅋㅋㅋㅋㅋ 진짜 7-800그람 빠짐 나 몸이 너무 무거워서 몸무게 쟀는데 빠져서 놀랏어 너무 무서워',\n",
       "       '구냥 기른거같은데... ㅋ켘캨ㅋㅋㅋ ㅋㅋㅋㅋㅋㅋ알지 뭔날린디 #@이름# 털을보면 관리를해서 스탈이구나 싶은데 ㅋㅋㅋㅋㅋ 엌ㅋㅋㅋ #@이름#는 그냥인지 스타일인지 헷갈림 그냥인느낌이엇어 엌ㅋ 마구 기르는느낌 그칰ㅋㅌㅌㅌㅌ',\n",
       "       '앜ㅋㅋㅋㅋㅋㅋ나 머리가 저렇게 짧았나ㅋㅋㅋㅋㅋㅋ 레이어드컷 언니가 혹할만한 예쁜 사진 찾고있는데 없엌ㅋㅋㅋㅋㅋㅋㅋㅋㅋ 김유정머리하고 길러야짘ㅋㅋㅋㅋㅋㅋ 마지막 짧은 머리다 증맬로 마지막인거늬 ㅋㅋㅋㅋㅋㅋㅋ 나도 근데 가을되면 단발 하고 싶은데 과연 후회 천퍼 할 구 알아서 그냥 있는다....... ㅋㅋㅋㅋㅋㅋㅋㅋ 5살 더 늙으면 단발하자 우리 ㅋㅋㅋㅋㅋㅋㅋㅋ아냐 단발 잘러울리는데 왜 에단호크 잘생겼네... ㅋㅋ크 에단호크잘생겻지 ㅋㅋㅋㅋㅋㅋㅋㅋㅋㅋ 키 작아ㅠㅠㅠㅠ흑흑 #@이름#스 단발추천이여',\n",
       "       ...,\n",
       "       '맞아 어색해서 걍 긍정적이게 넴 이라고만했다ㅋㅋㅋㅋ 후아후아후 ㅋㅋㅋㅋㅋㅋㅋㅋㅋㅋ웃기네 ㅠ #@이름#이 아녀 ㅠ 오랜만에 들어본다 #@이름#ㅋㅋㅋㅋㅋㅋㅋ ㅋㅋㅋㅋㅋㅋㅋ 별명 누가 지어준거야 웃기다고 ㅠ',\n",
       "       '아앗...^^... ㅠㅠㅠㅠㅠㅠ 처장님까지 되면 끝이지 ㅠㅠ 웅웅 거진 ?? ㅋㅋㅋㅋㅋㅋㅋㅋㅋㅋㅋㅋ 헤헤 아휴 #@이름#은 오늘 안바뿌닝 나는 일이 옶다 연합뉴스 받아서 제출할 거 있는데 주지않아서 못하고있다 ㅎㅅㅎ 오늘이 마감인데 ㅎㅎ #@이름#가 조아하는 호피 #@시스템#사진#',\n",
       "       '일단 알바 지원해바야게따 ㅋㅋㅋ 웅웅 안가면 영원히 블랙 됨 ㅠㅠ 지원하면 꼭 가야해 왜 나는 안오냐 저 문자 #@이모티콘# 그래..? 긍데 시간많아 나 ㅋㅋㅋㅋ 담주 평일로 가야게따 알바 지원잘못쓴거아냐? 폰번호 아냐 저거 올때 지원해야되믄데 왜냐면 사람들 몰림 이게 그니까 평일 한달에 7번만하면 주휴수당도 지금해야겟네그럼 일주일 나와 오오대박 굳 나 평일날 간다!'],\n",
       "      dtype=object)"
      ]
     },
     "execution_count": 12,
     "metadata": {},
     "output_type": "execute_result"
    }
   ],
   "source": [
    "text"
   ]
  },
  {
   "cell_type": "code",
   "execution_count": 13,
   "metadata": {},
   "outputs": [],
   "source": [
    "filtered_text=[]\n",
    "\n",
    "for t in text:\n",
    "    for tag in tag_list:\n",
    "        if tag in t:\n",
    "            filtered_text.append(t)"
   ]
  },
  {
   "cell_type": "code",
   "execution_count": 14,
   "metadata": {},
   "outputs": [
    {
     "data": {
      "text/plain": [
       "482718"
      ]
     },
     "execution_count": 14,
     "metadata": {},
     "output_type": "execute_result"
    }
   ],
   "source": [
    "len(filtered_text)"
   ]
  },
  {
   "cell_type": "code",
   "execution_count": 15,
   "metadata": {},
   "outputs": [
    {
     "data": {
      "text/html": [
       "<div>\n",
       "<style scoped>\n",
       "    .dataframe tbody tr th:only-of-type {\n",
       "        vertical-align: middle;\n",
       "    }\n",
       "\n",
       "    .dataframe tbody tr th {\n",
       "        vertical-align: top;\n",
       "    }\n",
       "\n",
       "    .dataframe thead th {\n",
       "        text-align: right;\n",
       "    }\n",
       "</style>\n",
       "<table border=\"1\" class=\"dataframe\">\n",
       "  <thead>\n",
       "    <tr style=\"text-align: right;\">\n",
       "      <th></th>\n",
       "      <th>text</th>\n",
       "    </tr>\n",
       "  </thead>\n",
       "  <tbody>\n",
       "    <tr>\n",
       "      <th>0</th>\n",
       "      <td>구냥 기른거같은데... ㅋ켘캨ㅋㅋㅋ ㅋㅋㅋㅋㅋㅋ알지 뭔날린디 #@이름# 털을보면 관...</td>\n",
       "    </tr>\n",
       "    <tr>\n",
       "      <th>1</th>\n",
       "      <td>앜ㅋㅋㅋㅋㅋㅋ나 머리가 저렇게 짧았나ㅋㅋㅋㅋㅋㅋ 레이어드컷 언니가 혹할만한 예쁜 사...</td>\n",
       "    </tr>\n",
       "    <tr>\n",
       "      <th>2</th>\n",
       "      <td>옥수수 털고싶다 옥수수 뽑아줄까 #@이름#센세는 옥수수 한번 뽑았었음 님도 곧 사랑...</td>\n",
       "    </tr>\n",
       "    <tr>\n",
       "      <th>3</th>\n",
       "      <td>#@이름# 아니겠죠...독감아닌데 열이 어젯밤도 안 떨어진다더라구요 그래서 오늘 #...</td>\n",
       "    </tr>\n",
       "    <tr>\n",
       "      <th>4</th>\n",
       "      <td>귓불도 뚫을 수 있으면 좋은데 아님 좀 윗쪽으로해서 함 뚫어 앞에서 봤을때 보이게....</td>\n",
       "    </tr>\n",
       "  </tbody>\n",
       "</table>\n",
       "</div>"
      ],
      "text/plain": [
       "                                                text\n",
       "0  구냥 기른거같은데... ㅋ켘캨ㅋㅋㅋ ㅋㅋㅋㅋㅋㅋ알지 뭔날린디 #@이름# 털을보면 관...\n",
       "1  앜ㅋㅋㅋㅋㅋㅋ나 머리가 저렇게 짧았나ㅋㅋㅋㅋㅋㅋ 레이어드컷 언니가 혹할만한 예쁜 사...\n",
       "2  옥수수 털고싶다 옥수수 뽑아줄까 #@이름#센세는 옥수수 한번 뽑았었음 님도 곧 사랑...\n",
       "3  #@이름# 아니겠죠...독감아닌데 열이 어젯밤도 안 떨어진다더라구요 그래서 오늘 #...\n",
       "4  귓불도 뚫을 수 있으면 좋은데 아님 좀 윗쪽으로해서 함 뚫어 앞에서 봤을때 보이게...."
      ]
     },
     "execution_count": 15,
     "metadata": {},
     "output_type": "execute_result"
    }
   ],
   "source": [
    "filtered_df=pd.DataFrame(filtered_text,columns=[\"text\"])\n",
    "filtered_df.head()"
   ]
  },
  {
   "cell_type": "code",
   "execution_count": 16,
   "metadata": {},
   "outputs": [],
   "source": [
    "tag_dict={'#@이름#': 0, #성+이름(1), 이름(9)\n",
    " '#@계정#': 0,  #이메일\n",
    " '#@신원#': 0, #주민번호\n",
    " '#@전번#': 0, #핸드폰번호\n",
    " '#@금융#': 0, #계좌번호(국민) (은행명 계좌번호) , (계좌번호 은행명), (oo은행 , oo)\n",
    " '#@번호#': 0, # 4~6자리 , 5:5\n",
    " '#@주소#': 0} # 동이하 주소, 지번\n",
    "\n",
    "for t in text:\n",
    "    for tag in tag_list:\n",
    "        if tag in t:\n",
    "            tag_dict[tag]+=1"
   ]
  },
  {
   "cell_type": "code",
   "execution_count": 17,
   "metadata": {},
   "outputs": [
    {
     "data": {
      "text/plain": [
       "{'#@이름#': 467272,\n",
       " '#@계정#': 3098,\n",
       " '#@신원#': 438,\n",
       " '#@전번#': 1785,\n",
       " '#@금융#': 2099,\n",
       " '#@번호#': 3273,\n",
       " '#@주소#': 4753}"
      ]
     },
     "execution_count": 17,
     "metadata": {},
     "output_type": "execute_result"
    }
   ],
   "source": [
    "tag_dict"
   ]
  },
  {
   "cell_type": "code",
   "execution_count": 30,
   "metadata": {},
   "outputs": [
    {
     "data": {
      "text/plain": [
       "dict_keys(['#@이름#', '#@계정#', '#@신원#', '#@전번#', '#@금융#', '#@번호#', '#@주소#'])"
      ]
     },
     "execution_count": 30,
     "metadata": {},
     "output_type": "execute_result"
    }
   ],
   "source": [
    "tag_dict.keys()"
   ]
  },
  {
   "cell_type": "code",
   "execution_count": 18,
   "metadata": {},
   "outputs": [],
   "source": [
    "from faker import Faker"
   ]
  },
  {
   "cell_type": "code",
   "execution_count": 19,
   "metadata": {},
   "outputs": [
    {
     "data": {
      "text/plain": [
       "'울산광역시 서구 봉은사6가 (수민박리)'"
      ]
     },
     "execution_count": 19,
     "metadata": {},
     "output_type": "execute_result"
    }
   ],
   "source": [
    "fake = Faker('ko-KR')\n",
    "\n",
    "fake.address()"
   ]
  },
  {
   "cell_type": "code",
   "execution_count": 136,
   "metadata": {},
   "outputs": [
    {
     "data": {
      "text/plain": [
       "'010-2968-7693'"
      ]
     },
     "execution_count": 136,
     "metadata": {},
     "output_type": "execute_result"
    }
   ],
   "source": [
    "'010'+'-'+str(int(random()*10000)).zfill(4)+'-'+str(int(random()*10000)).zfill(4)"
   ]
  },
  {
   "cell_type": "code",
   "execution_count": 31,
   "metadata": {},
   "outputs": [],
   "source": [
    "def random_phone_number(iter:int, proportion=0.5):\n",
    "    with_dash = []\n",
    "    without_dash = []\n",
    "    number_dict = {}\n",
    "    \n",
    "    for i in range(int(iter*proportion)):\n",
    "        number = '010'+'-'+str(int(random()*10000)).zfill(4)+'-'+str(int(random()*10000)).zfill(4)\n",
    "        with_dash.append(number)\n",
    "\n",
    "    for i in range(int(iter*(1-proportion))):\n",
    "        number = '010'+str(int(random()*10000)).zfill(4)+str(int(random()*10000)).zfill(4)\n",
    "        without_dash.append(number)\n",
    "\n",
    "    number_dict['number_dash'] = with_dash\n",
    "    number_dict['number_without_dash'] = without_dash\n",
    "\n",
    "    return number_dict"
   ]
  },
  {
   "cell_type": "code",
   "execution_count": 33,
   "metadata": {},
   "outputs": [
    {
     "data": {
      "text/plain": [
       "{'number_dash': ['010-4056-4449',\n",
       "  '010-5594-9292',\n",
       "  '010-0252-9832',\n",
       "  '010-6502-7319',\n",
       "  '010-1051-9313'],\n",
       " 'number_without_dash': ['01088236140',\n",
       "  '01025581188',\n",
       "  '01057998342',\n",
       "  '01084008563',\n",
       "  '01012086468']}"
      ]
     },
     "execution_count": 33,
     "metadata": {},
     "output_type": "execute_result"
    }
   ],
   "source": [
    "w = random_phone_number(10)\n",
    "w"
   ]
  },
  {
   "cell_type": "code",
   "execution_count": 22,
   "metadata": {},
   "outputs": [],
   "source": [
    "def random_id_code(iter:int, proportion=0.5):\n",
    "    with_dash = []\n",
    "    with_space = []\n",
    "    id_dict = {}\n",
    "\n",
    "    for i in range(int(iter*proportion)):\n",
    "        number = str(int(random()*1000000)).ljust(6, '0')+'-'+str(int(random()*10000000)).ljust(7, '0')\n",
    "        with_dash.append(number)\n",
    "\n",
    "    for i in range(int(iter*(1-proportion))):\n",
    "        number = str(int(random()*1000000)).ljust(6, '0')+' '+str(int(random()*10000000)).ljust(7, '0')\n",
    "        with_space.append(number)\n",
    "\n",
    "    id_dict['id_code_dash'] = with_dash\n",
    "    id_dict['id_code_space'] = with_space\n",
    "\n",
    "    return id_dict"
   ]
  },
  {
   "cell_type": "code",
   "execution_count": 25,
   "metadata": {},
   "outputs": [
    {
     "data": {
      "text/plain": [
       "{'id_code_dash': ['911806-9370374',\n",
       "  '262497-4566775',\n",
       "  '982240-8910210',\n",
       "  '425636-3955740',\n",
       "  '734367-6330330'],\n",
       " 'id_code_space': ['384522 8757027',\n",
       "  '832050 9085604',\n",
       "  '305006 6520199',\n",
       "  '653940 2387656',\n",
       "  '367946 2358244']}"
      ]
     },
     "execution_count": 25,
     "metadata": {},
     "output_type": "execute_result"
    }
   ],
   "source": [
    "random_id_code(10)"
   ]
  },
  {
   "cell_type": "code",
   "execution_count": 26,
   "metadata": {},
   "outputs": [],
   "source": [
    "def random_pw(iter:int, proportion=0.5):\n",
    "    digits_4 = []\n",
    "    digits_6 = []\n",
    "    pw_dict = {}\n",
    "\n",
    "    for i in range(int(iter*proportion)):\n",
    "        pw = str(int(random()*10000)).zfill(4)\n",
    "        digits_4.append(pw)\n",
    "    \n",
    "    for i in range(int(iter*(1-proportion))):\n",
    "        pw = str(int(random()*1000000)).zfill(6)\n",
    "        digits_6.append(pw)\n",
    "\n",
    "    pw_dict['pw_digits_4'] = digits_4\n",
    "    pw_dict['pw_digits_6'] = digits_6\n",
    "\n",
    "    return pw_dict"
   ]
  },
  {
   "cell_type": "code",
   "execution_count": 27,
   "metadata": {},
   "outputs": [
    {
     "data": {
      "text/plain": [
       "{'pw_digits_4': ['6161',\n",
       "  '0573',\n",
       "  '9710',\n",
       "  '4694',\n",
       "  '0941',\n",
       "  '5864',\n",
       "  '8563',\n",
       "  '0838',\n",
       "  '5518',\n",
       "  '8140',\n",
       "  '4288',\n",
       "  '0776',\n",
       "  '1305',\n",
       "  '5389',\n",
       "  '2202',\n",
       "  '5963',\n",
       "  '5867',\n",
       "  '5023',\n",
       "  '6065',\n",
       "  '0404',\n",
       "  '2794',\n",
       "  '4088',\n",
       "  '7515',\n",
       "  '1403',\n",
       "  '1887',\n",
       "  '3993',\n",
       "  '5699',\n",
       "  '5675',\n",
       "  '7490',\n",
       "  '4665',\n",
       "  '1538',\n",
       "  '8859',\n",
       "  '4923',\n",
       "  '6023',\n",
       "  '7242',\n",
       "  '8540',\n",
       "  '9995',\n",
       "  '0053',\n",
       "  '5112',\n",
       "  '7146',\n",
       "  '5650',\n",
       "  '2080',\n",
       "  '2137',\n",
       "  '7614',\n",
       "  '5092',\n",
       "  '4142',\n",
       "  '6137',\n",
       "  '0747',\n",
       "  '8267',\n",
       "  '2934'],\n",
       " 'pw_digits_6': ['442621',\n",
       "  '120998',\n",
       "  '688176',\n",
       "  '264735',\n",
       "  '766597',\n",
       "  '519525',\n",
       "  '180154',\n",
       "  '708941',\n",
       "  '734317',\n",
       "  '965883',\n",
       "  '454913',\n",
       "  '576349',\n",
       "  '390136',\n",
       "  '030511',\n",
       "  '225407',\n",
       "  '372651',\n",
       "  '146344',\n",
       "  '949424',\n",
       "  '893961',\n",
       "  '608910',\n",
       "  '127080',\n",
       "  '715977',\n",
       "  '573662',\n",
       "  '967501',\n",
       "  '459353',\n",
       "  '005017',\n",
       "  '906872',\n",
       "  '163174',\n",
       "  '744629',\n",
       "  '726315',\n",
       "  '923090',\n",
       "  '117927',\n",
       "  '735634',\n",
       "  '716769',\n",
       "  '197954',\n",
       "  '996529',\n",
       "  '510461',\n",
       "  '017184',\n",
       "  '559117',\n",
       "  '218909',\n",
       "  '268579',\n",
       "  '012864',\n",
       "  '483270',\n",
       "  '506366',\n",
       "  '059639',\n",
       "  '720076',\n",
       "  '639783',\n",
       "  '702148',\n",
       "  '612898',\n",
       "  '904132']}"
      ]
     },
     "execution_count": 27,
     "metadata": {},
     "output_type": "execute_result"
    }
   ],
   "source": [
    "random_pw(100)"
   ]
  },
  {
   "cell_type": "code",
   "execution_count": 34,
   "metadata": {},
   "outputs": [],
   "source": [
    "def random_address(iter:int):\n",
    "    from faker import Faker\n",
    "    fake = Faker('ko-KR')\n",
    "\n",
    "    address_list = []\n",
    "    for i in range(iter):\n",
    "        faker_address = fake.address()\n",
    "        if '(' in faker_address:\n",
    "            pass\n",
    "        else:\n",
    "            address_list.append(faker_address+' '+str(int(random()*1000)))\n",
    "\n",
    "    return address_list"
   ]
  },
  {
   "cell_type": "code",
   "execution_count": 41,
   "metadata": {},
   "outputs": [
    {
     "data": {
      "text/plain": [
       "['대전광역시 서대문구 잠실5가 678',\n",
       " '강원도 원주시 양재천길 234',\n",
       " '부산광역시 강서구 서초대131로 6',\n",
       " '울산광역시 강동구 선릉66가 464',\n",
       " '충청북도 태안군 잠실길 96']"
      ]
     },
     "execution_count": 41,
     "metadata": {},
     "output_type": "execute_result"
    }
   ],
   "source": [
    "random_address(10)"
   ]
  },
  {
   "cell_type": "code",
   "execution_count": null,
   "metadata": {},
   "outputs": [],
   "source": []
  },
  {
   "cell_type": "code",
   "execution_count": 1,
   "metadata": {},
   "outputs": [],
   "source": []
  },
  {
   "cell_type": "code",
   "execution_count": null,
   "metadata": {},
   "outputs": [],
   "source": []
  }
 ],
 "metadata": {
  "kernelspec": {
   "display_name": "Python 3.9.7 64-bit",
   "language": "python",
   "name": "python3"
  },
  "language_info": {
   "codemirror_mode": {
    "name": "ipython",
    "version": 3
   },
   "file_extension": ".py",
   "mimetype": "text/x-python",
   "name": "python",
   "nbconvert_exporter": "python",
   "pygments_lexer": "ipython3",
   "version": "3.9.7"
  },
  "orig_nbformat": 4,
  "vscode": {
   "interpreter": {
    "hash": "b74fd8ec7b01db4657ca4d6d5d723f30a99433329ffa5e7c7f3580de1aebf363"
   }
  }
 },
 "nbformat": 4,
 "nbformat_minor": 2
}
